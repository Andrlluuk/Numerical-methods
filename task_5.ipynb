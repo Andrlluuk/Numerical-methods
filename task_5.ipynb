{
 "cells": [
  {
   "cell_type": "markdown",
   "metadata": {},
   "source": [
    "1. y'' = sin(x)\n",
    "1) Построить разностный аналог\n",
    "2) Решить его методом прогонки\n",
    "Сравнить с аналитическим решением для некоторых гран условий\n",
    "Реализовать различные виды гран условий y,y\n",
    "y,y'\n",
    "y',y'"
   ]
  },
  {
   "cell_type": "code",
   "execution_count": 345,
   "metadata": {},
   "outputs": [],
   "source": [
    "import scipy.linalg\n",
    "import numpy as np\n",
    "import pandas as pd\n",
    "import matplotlib.pyplot as plt\n",
    "from math import *"
   ]
  },
  {
   "cell_type": "code",
   "execution_count": 346,
   "metadata": {},
   "outputs": [],
   "source": [
    "h = 0.005\n",
    "p = 0\n",
    "q = 1\n",
    "n = int((q - p)/h)\n",
    "p_bound = 0\n",
    "q_bound = 0"
   ]
  },
  {
   "cell_type": "code",
   "execution_count": 347,
   "metadata": {},
   "outputs": [
    {
     "data": {
      "text/plain": [
       "200"
      ]
     },
     "execution_count": 347,
     "metadata": {},
     "output_type": "execute_result"
    }
   ],
   "source": [
    "n"
   ]
  },
  {
   "cell_type": "code",
   "execution_count": 348,
   "metadata": {},
   "outputs": [],
   "source": [
    "variables = n - 1\n",
    "intervals = n\n",
    "points = n + 1\n",
    "alphas = n - 2"
   ]
  },
  {
   "cell_type": "raw",
   "metadata": {},
   "source": [
    "условия на функцию слева и справа \n",
    "Решаем задачу y'' = sin(x)\n",
    "y(0) = 0\n",
    "y(1) = 0\n",
    "Аналитическое решение: sin(1)*x - sin(x)"
   ]
  },
  {
   "cell_type": "code",
   "execution_count": 349,
   "metadata": {},
   "outputs": [],
   "source": [
    "def get_coefficients(h,p,q,p_bound,q_bound, variables):\n",
    "    d = [None]*variables\n",
    "    d[0] = sin(p + h)*h*h - p_bound\n",
    "    for i in range(1, variables - 1):\n",
    "        d[i] = sin(p + (i+1)*h)*h*h\n",
    "    d[variables - 1] = sin(p + variables*h)*h*h - q_bound\n",
    "    a = [1 for i in range(variables)]\n",
    "    a[0] = 0\n",
    "    b = [-2 for i in range(variables)]\n",
    "    c = [1 for i in range(variables)]\n",
    "    c[n-2] = 0\n",
    "    return a,b,c,d"
   ]
  },
  {
   "cell_type": "code",
   "execution_count": 350,
   "metadata": {},
   "outputs": [],
   "source": [
    "def tdma(a, b, c, d):\n",
    "    n = len(b)\n",
    "    x = np.zeros(n)  \n",
    "    for k in range(1,n):\n",
    "        q = a[k]/b[k-1]\n",
    "        b[k] = b[k] - c[k-1]*q\n",
    "        d[k] = d[k] - d[k-1]*q   \n",
    "    q = d[n-1]/b[n-1]\n",
    "    x[n-1] = q  \n",
    "    for k in range(n-2,-1,-1):\n",
    "        q = (d[k]-c[k]*q)/b[k]\n",
    "        x[k] = q\n",
    "    return x"
   ]
  },
  {
   "cell_type": "code",
   "execution_count": 351,
   "metadata": {},
   "outputs": [],
   "source": [
    "a, b, c, d = get_coefficients(h,p,q,p_bound,q_bound,variables)\n",
    "x = tdma(a,b,c,d)\n",
    "y = []\n",
    "y.append(p_bound)\n",
    "for obj in x:\n",
    "    y.append(obj)\n",
    "y.append(q_bound)"
   ]
  },
  {
   "cell_type": "code",
   "execution_count": 352,
   "metadata": {},
   "outputs": [
    {
     "data": {
      "text/plain": [
       "[<matplotlib.lines.Line2D at 0x7fa410a86710>]"
      ]
     },
     "execution_count": 352,
     "metadata": {},
     "output_type": "execute_result"
    },
    {
     "data": {
      "image/png": "[encoded data removed]",
      "text/plain": [
       "<Figure size 432x288 with 1 Axes>"
      ]
     },
     "metadata": {
      "needs_background": "light"
     },
     "output_type": "display_data"
    }
   ],
   "source": [
    "plt.plot(figsize = (20,10))\n",
    "plt.plot(y)\n",
    "plt.plot([sin(1)*(i*h) - sin(i*h) for i in range(201)])"
   ]
  },
  {
   "cell_type": "code",
   "execution_count": 353,
   "metadata": {},
   "outputs": [
    {
     "data": {
      "text/plain": [
       "[<matplotlib.lines.Line2D at 0x7fa410b91cd0>]"
      ]
     },
     "execution_count": 353,
     "metadata": {},
     "output_type": "execute_result"
    },
    {
     "data": {
      "image/png": "[encoded data removed]",
      "text/plain": [
       "<Figure size 432x288 with 1 Axes>"
      ]
     },
     "metadata": {
      "needs_background": "light"
     },
     "output_type": "display_data"
    }
   ],
   "source": [
    "t = [sin(1)*(i*h) - sin(i*h) for i in range(201)]\n",
    "delta = (np.array(y) - np.array(t))\n",
    "sup1 = np.max(abs(delta[1:-1]))\n",
    "plt.plot(np.array(y[1:-1]) - np.array(t[1:-1]))"
   ]
  },
  {
   "cell_type": "code",
   "execution_count": 354,
   "metadata": {},
   "outputs": [],
   "source": [
    "#Cразу смотрим порядок сходимости"
   ]
  },
  {
   "cell_type": "code",
   "execution_count": 355,
   "metadata": {},
   "outputs": [],
   "source": [
    "h = 0.0025\n",
    "p = 0\n",
    "q = 1\n",
    "n = int((q - p)/h)\n",
    "p_bound = 0\n",
    "q_bound = 0\n",
    "variables = n - 1\n",
    "intervals = n\n",
    "points = n + 1\n",
    "alphas = n - 2"
   ]
  },
  {
   "cell_type": "code",
   "execution_count": 356,
   "metadata": {},
   "outputs": [],
   "source": [
    "a, b, c, d = get_coefficients(h,p,q,p_bound,q_bound,variables)\n",
    "x = tdma(a,b,c,d)\n",
    "y = []\n",
    "y.append(p_bound)\n",
    "for obj in x:\n",
    "    y.append(obj)\n",
    "y.append(q_bound)"
   ]
  },
  {
   "cell_type": "code",
   "execution_count": 357,
   "metadata": {},
   "outputs": [
    {
     "data": {
      "text/plain": [
       "[<matplotlib.lines.Line2D at 0x7fa410c40610>]"
      ]
     },
     "execution_count": 357,
     "metadata": {},
     "output_type": "execute_result"
    },
    {
     "data": {
      "image/png": "[encoded data removed]",
      "text/plain": [
       "<Figure size 432x288 with 1 Axes>"
      ]
     },
     "metadata": {
      "needs_background": "light"
     },
     "output_type": "display_data"
    }
   ],
   "source": [
    "plt.plot(figsize = (20,10))\n",
    "plt.plot(y)\n",
    "plt.plot([sin(1)*(i*h) - sin(i*h) for i in range(400)])"
   ]
  },
  {
   "cell_type": "code",
   "execution_count": 358,
   "metadata": {},
   "outputs": [
    {
     "data": {
      "text/plain": [
       "[<matplotlib.lines.Line2D at 0x7fa410d578d0>]"
      ]
     },
     "execution_count": 358,
     "metadata": {},
     "output_type": "execute_result"
    },
    {
     "data": {
      "image/png": "[encoded data removed]",
      "text/plain": [
       "<Figure size 432x288 with 1 Axes>"
      ]
     },
     "metadata": {
      "needs_background": "light"
     },
     "output_type": "display_data"
    }
   ],
   "source": [
    "t = [sin(1)*(i*h) - sin(i*h) for i in range(401)]\n",
    "delta = (np.array(y) - np.array(t))\n",
    "sup2 = np.max(abs(delta[1:-1]))\n",
    "plt.plot(np.array(y[1:-1]) - np.array(t[1:-1]))"
   ]
  },
  {
   "cell_type": "code",
   "execution_count": 359,
   "metadata": {},
   "outputs": [
    {
     "data": {
      "text/plain": [
       "4.000003324361637"
      ]
     },
     "execution_count": 359,
     "metadata": {},
     "output_type": "execute_result"
    }
   ],
   "source": [
    "sup1/sup2"
   ]
  },
  {
   "cell_type": "code",
   "execution_count": 360,
   "metadata": {},
   "outputs": [],
   "source": [
    "h = 0.00125\n",
    "p = 0\n",
    "q = 1\n",
    "n = int((q - p)/h)\n",
    "p_bound = 0\n",
    "q_bound = 0\n",
    "variables = n - 1\n",
    "intervals = n\n",
    "points = n + 1\n",
    "alphas = n - 2"
   ]
  },
  {
   "cell_type": "code",
   "execution_count": 361,
   "metadata": {},
   "outputs": [],
   "source": [
    "a, b, c, d = get_coefficients(h,p,q,p_bound,q_bound,variables)\n",
    "x = tdma(a,b,c,d)\n",
    "y = []\n",
    "y.append(p_bound)\n",
    "for obj in x:\n",
    "    y.append(obj)\n",
    "y.append(q_bound)"
   ]
  },
  {
   "cell_type": "code",
   "execution_count": 362,
   "metadata": {},
   "outputs": [
    {
     "data": {
      "text/plain": [
       "[<matplotlib.lines.Line2D at 0x7fa410e47390>]"
      ]
     },
     "execution_count": 362,
     "metadata": {},
     "output_type": "execute_result"
    },
    {
     "data": {
      "image/png": "[encoded data removed]",
      "text/plain": [
       "<Figure size 432x288 with 1 Axes>"
      ]
     },
     "metadata": {
      "needs_background": "light"
     },
     "output_type": "display_data"
    }
   ],
   "source": [
    "plt.plot(y)\n",
    "plt.plot([sin(1)*(i*h) - sin(i*h) for i in range(801)])"
   ]
  },
  {
   "cell_type": "code",
   "execution_count": 363,
   "metadata": {},
   "outputs": [
    {
     "data": {
      "text/plain": [
       "[<matplotlib.lines.Line2D at 0x7fa411015d90>]"
      ]
     },
     "execution_count": 363,
     "metadata": {},
     "output_type": "execute_result"
    },
    {
     "data": {
      "image/png": "[encoded data removed]",
      "text/plain": [
       "<Figure size 432x288 with 1 Axes>"
      ]
     },
     "metadata": {
      "needs_background": "light"
     },
     "output_type": "display_data"
    }
   ],
   "source": [
    "t = [sin(1)*(i*h) - sin(i*h) for i in range(801)]\n",
    "delta = (np.array(y) - np.array(t))\n",
    "sup3 = np.max(abs(delta[1:-1]))\n",
    "plt.plot(np.array(y[1:-1]) - np.array(t[1:-1]))"
   ]
  },
  {
   "cell_type": "code",
   "execution_count": 365,
   "metadata": {},
   "outputs": [
    {
     "data": {
      "text/plain": [
       "4.000002804279771"
      ]
     },
     "execution_count": 365,
     "metadata": {},
     "output_type": "execute_result"
    }
   ],
   "source": [
    "sup2/sup3"
   ]
  },
  {
   "cell_type": "raw",
   "metadata": {},
   "source": [
    "#решим похожую задачу с ненулевыми условиями\n",
    "Решаем задачу y'' = sin(x)\n",
    "y(pi) = 1\n",
    "y(2*pi) = -1"
   ]
  },
  {
   "cell_type": "code",
   "execution_count": 397,
   "metadata": {},
   "outputs": [
    {
     "name": "stdout",
     "output_type": "stream",
     "text": [
      "50000\n"
     ]
    }
   ],
   "source": [
    "h = pi/50000\n",
    "p = pi\n",
    "q = 2*pi\n",
    "n = int((q - p)/h)\n",
    "print(n)\n",
    "p_bound = 1\n",
    "q_bound = -1\n",
    "variables = n - 1\n",
    "intervals = n\n",
    "points = n + 1\n",
    "alphas = n - 2"
   ]
  },
  {
   "cell_type": "code",
   "execution_count": 398,
   "metadata": {},
   "outputs": [],
   "source": [
    "a, b, c, d = get_coefficients(h, p, q, p_bound, q_bound,variables)\n",
    "x = tdma(a,b,c,d)"
   ]
  },
  {
   "cell_type": "code",
   "execution_count": 399,
   "metadata": {},
   "outputs": [
    {
     "data": {
      "text/plain": [
       "[<matplotlib.lines.Line2D at 0x7fa4115b94d0>]"
      ]
     },
     "execution_count": 399,
     "metadata": {},
     "output_type": "execute_result"
    },
    {
     "data": {
      "image/png": "[encoded data removed]",
      "text/plain": [
       "<Figure size 432x288 with 1 Axes>"
      ]
     },
     "metadata": {
      "needs_background": "light"
     },
     "output_type": "display_data"
    }
   ],
   "source": [
    "plt.plot(x)\n",
    "plt.plot([-2/pi*(pi + i*h) + 3 - sin(pi + i*h) for i in range(50000)])"
   ]
  },
  {
   "cell_type": "raw",
   "metadata": {},
   "source": [
    "Меняем граничные условия:теперь на одном из концов(пусть на правом) известно значение производной\n",
    "ее аппроксимируем правой разностью(с левым концом аналогично)\n",
    "y'' = sin(x)\n",
    "y(0) = 1\n",
    "y'(1) = 0\n",
    "Аналитическое решение: cos(1)*x + 1 - sin(x)\n",
    "#изменения в матрице: B(n) := -1\n",
    "D(n):= D(n)*h^2- y'(b)*h"
   ]
  },
  {
   "cell_type": "code",
   "execution_count": 439,
   "metadata": {},
   "outputs": [],
   "source": [
    "h = 0.00125\n",
    "p = 0\n",
    "q = 1\n",
    "n = int((q - p)/h)\n",
    "p_bound = 1\n",
    "q_bound = 0\n",
    "variables = n - 1\n",
    "intervals = n\n",
    "points = n + 1\n",
    "alphas = n - 2"
   ]
  },
  {
   "cell_type": "code",
   "execution_count": 440,
   "metadata": {},
   "outputs": [],
   "source": [
    "def get_coefficients_1(h,p,q,p_bound,q_bound,variables):\n",
    "    d = [None]*variables\n",
    "    d[0] = sin(p + h)*h*h - p_bound\n",
    "    for i in range(1, variables - 1):\n",
    "        d[i] = sin(p + (i+1)*h)*h*h\n",
    "    d[variables - 1] = sin(p + variables*h)*h*h - q_bound*h\n",
    "    a = [1 for i in range(variables)]\n",
    "    a[0] = 0\n",
    "    b = [-2 for i in range(variables)]\n",
    "    b[-1] = -1\n",
    "    c = [1 for i in range(variables)]\n",
    "    c[n-2] = 0\n",
    "    return a,b,c,d"
   ]
  },
  {
   "cell_type": "code",
   "execution_count": 441,
   "metadata": {},
   "outputs": [],
   "source": [
    "def tdma(a1, b1, c1, d1):\n",
    "    n = len(b1)\n",
    "    x = np.zeros(n)  \n",
    "    for k in range(1,n):\n",
    "        q = a1[k]/b1[k-1]\n",
    "        b1[k] = b1[k] - c1[k-1]*q\n",
    "        d1[k] = d1[k] - d1[k-1]*q   \n",
    "    q = d1[n-1]/b1[n-1]\n",
    "    x[n-1] = q  \n",
    "    for k in range(n-2,-1,-1):\n",
    "        q = (d1[k]-c1[k]*q)/b1[k]\n",
    "        x[k] = q\n",
    "    return x"
   ]
  },
  {
   "cell_type": "code",
   "execution_count": 442,
   "metadata": {},
   "outputs": [],
   "source": [
    "a, b, c, d = get_coefficients_1(h,p,q,p_bound,q_bound,variables)\n",
    "x = tdma(a,b,c,d)\n",
    "y = []\n",
    "y.append(p_bound)\n",
    "for obj in x:\n",
    "    y.append(obj)"
   ]
  },
  {
   "cell_type": "code",
   "execution_count": 443,
   "metadata": {},
   "outputs": [
    {
     "data": {
      "text/plain": [
       "[<matplotlib.lines.Line2D at 0x7fa412c84250>]"
      ]
     },
     "execution_count": 443,
     "metadata": {},
     "output_type": "execute_result"
    },
    {
     "data": {
      "image/png": "[encoded data removed]",
      "text/plain": [
       "<Figure size 432x288 with 1 Axes>"
      ]
     },
     "metadata": {
      "needs_background": "light"
     },
     "output_type": "display_data"
    }
   ],
   "source": [
    "plt.plot(y)\n",
    "plt.plot([cos(1)*(i*h) + 1 - sin(i*h) for i in range(n)])"
   ]
  },
  {
   "cell_type": "code",
   "execution_count": 475,
   "metadata": {},
   "outputs": [],
   "source": [
    "t = [cos(1)*(i*h) + 1 - sin(i*h) for i in range(n)]\n",
    "delta = (np.array(y) - np.array(t))"
   ]
  },
  {
   "cell_type": "raw",
   "metadata": {},
   "source": [
    "Меняем граничные условия:теперь на одном из концов(пусть на правом) известно значение производной\n",
    "ее аппроксимируем правой разностью(с левым концом аналогично)\n",
    "! Если условия - обе производные, то задача вырождена(з.Коши для производной с двумя условиями)\n",
    "y'' = sin(x)\n",
    "y'(0) = 1\n",
    "y(1) = 3\n",
    "Аналитическое решение: 2*x + sin(2) + 1 - sin(x)"
   ]
  },
  {
   "cell_type": "code",
   "execution_count": 509,
   "metadata": {},
   "outputs": [],
   "source": [
    "def get_coefficients_2(h,p,q,p_bound,q_bound,variables):\n",
    "    d = [None]*variables\n",
    "    d[0] = sin(p + h)*h*h + p_bound*h\n",
    "    for i in range(1, variables - 1):\n",
    "        d[i] = sin(p + (i+1)*h)*h*h\n",
    "    d[variables - 1] = sin(p + variables*h)*h*h - q_bound\n",
    "    a = [1 for i in range(variables)]\n",
    "    a[0] = 0\n",
    "    b = [-2 for i in range(variables)]\n",
    "    b[0] = -1\n",
    "    c = [1 for i in range(variables)]\n",
    "    c[n-2] = 0\n",
    "    return a,b,c,d"
   ]
  },
  {
   "cell_type": "code",
   "execution_count": 510,
   "metadata": {},
   "outputs": [],
   "source": [
    "h = 0.00025\n",
    "p = 0\n",
    "q = 1\n",
    "n = int((q - p)/h)\n",
    "p_bound = 1\n",
    "q_bound = 3\n",
    "variables = n - 1\n",
    "intervals = n\n",
    "points = n + 1\n",
    "alphas = n - 2"
   ]
  },
  {
   "cell_type": "code",
   "execution_count": 511,
   "metadata": {},
   "outputs": [
    {
     "name": "stdout",
     "output_type": "stream",
     "text": [
      "-1\n"
     ]
    }
   ],
   "source": [
    "a, b, c, d = get_coefficients_2(h,p,q,p_bound,q_bound,variables)\n",
    "print(b[0])\n",
    "x = tdma(a,b,c,d)\n",
    "y = []\n",
    "for obj in x:\n",
    "    y.append(obj)\n",
    "y.append(q_bound)"
   ]
  },
  {
   "cell_type": "code",
   "execution_count": 514,
   "metadata": {},
   "outputs": [
    {
     "data": {
      "text/plain": [
       "[<matplotlib.lines.Line2D at 0x7fa3f5dd0990>]"
      ]
     },
     "execution_count": 514,
     "metadata": {},
     "output_type": "execute_result"
    },
    {
     "data": {
      "image/png": "[encoded data removed]",
      "text/plain": [
       "<Figure size 432x288 with 1 Axes>"
      ]
     },
     "metadata": {
      "needs_background": "light"
     },
     "output_type": "display_data"
    }
   ],
   "source": [
    "plt.plot(y)\n",
    "plt.plot([2*(i*h) + sin(1) + 1 - sin(i*h) for i in range(n)])"
   ]
  },
  {
   "cell_type": "code",
   "execution_count": 515,
   "metadata": {},
   "outputs": [],
   "source": [
    "#был выполнен метод прогонки с граничными условиями y,y; y,y', y',y"
   ]
  }
 ],
 "metadata": {
  "kernelspec": {
   "display_name": "Python 3",
   "language": "python",
   "name": "python3"
  },
  "language_info": {
   "codemirror_mode": {
    "name": "ipython",
    "version": 3
   },
   "file_extension": ".py",
   "mimetype": "text/x-python",
   "name": "python",
   "nbconvert_exporter": "python",
   "pygments_lexer": "ipython3",
   "version": "3.7.6"
  }
 },
 "nbformat": 4,
 "nbformat_minor": 4
}
