{
 "cells": [
  {
   "cell_type": "code",
   "execution_count": 1139,
   "metadata": {},
   "outputs": [],
   "source": [
    "import numpy as np\n",
    "import matplotlib.pyplot as plt\n",
    "from scipy import fft, ifft\n",
    "from scipy.fft import fftfreq\n",
    "from cmath import *\n",
    "from tqdm import tqdm\n",
    "from defaultlist import defaultlist\n",
    "from scipy.optimize import minimize"
   ]
  },
  {
   "cell_type": "code",
   "execution_count": 1140,
   "metadata": {},
   "outputs": [],
   "source": [
    "config = {}\n",
    "config['STARTED_SIGNAL'] = defaultlist(complex)\n",
    "config['TRANSLATED_SIGNAL'] = defaultlist(complex)"
   ]
  },
  {
   "cell_type": "code",
   "execution_count": 1142,
   "metadata": {},
   "outputs": [],
   "source": [
    "#HYPERPARAMETERS\n",
    "config = {}\n",
    "config['ENCODING'] = 'utf-8'\n",
    "config['BINARY_TO_COMPLEX'] = QAM16toComplex\n",
    "config['COMPLEX_TO_BINARY'] = QAM16toBinary\n",
    "config['T'] = 0.5\n",
    "config['BETA'] = 0.66\n",
    "config['NUMBER_OF_POINTS'] = 51\n",
    "config['BETA2'] = 0.1\n",
    "config['GAMMA'] = -0.0005\n",
    "config['A'] = 0\n",
    "config['B'] = 500\n",
    "config['LENGTH'] = config['B'] - config['A']\n",
    "config['NUMBER_OF_STEPS'] = 5000\n",
    "config['METHOD'] = SecondOrderMethod\n",
    "config['OPTIMIZE'] = 'Powell'\n",
    "config['BEGIN'] = 0"
   ]
  },
  {
   "cell_type": "code",
   "execution_count": 1143,
   "metadata": {
    "jupyter": {
     "source_hidden": true
    }
   },
   "outputs": [],
   "source": [
    "basic_text = 'Спасибо за курс! Зачтите лабу, пожалуйста)'"
   ]
  },
  {
   "cell_type": "code",
   "execution_count": 1144,
   "metadata": {},
   "outputs": [],
   "source": [
    "t = from_text_to_binary(basic_text)\n",
    "t = from_binary_to_text(t)"
   ]
  },
  {
   "cell_type": "markdown",
   "metadata": {},
   "source": [
    "# Преобразование - текст <> бинарная последовательность"
   ]
  },
  {
   "cell_type": "code",
   "execution_count": 1145,
   "metadata": {},
   "outputs": [],
   "source": [
    "def from_text_to_binary(text):\n",
    "    return ''.join(format(i, '08b') for i in bytearray(text, encoding = config['ENCODING']))"
   ]
  },
  {
   "cell_type": "code",
   "execution_count": 1146,
   "metadata": {},
   "outputs": [],
   "source": [
    "def from_binary_to_text(b_sequence):\n",
    "    b_sequence = int(b_sequence, 2)\n",
    "    byte_number = b_sequence.bit_length() + 7 // 8\n",
    "    binary_array = b_sequence.to_bytes(byte_number, \"big\")\n",
    "    ascii_text = binary_array.decode()\n",
    "    return ascii_text"
   ]
  },
  {
   "cell_type": "markdown",
   "metadata": {},
   "source": [
    "# Преобразование - бинарная последовательность <> комплексные числа"
   ]
  },
  {
   "cell_type": "code",
   "execution_count": 1147,
   "metadata": {},
   "outputs": [],
   "source": [
    "def QPSKtoComplex(b_sequence):\n",
    "    result_complex = []\n",
    "    for i in range(int(len(b_sequence) / 2)):\n",
    "        el = b_sequence[2 * i] + b_sequence[2 * i + 1]\n",
    "        if el == '00':\n",
    "            result_complex.append(-1-1j)\n",
    "        elif el == '01':\n",
    "            result_complex.append(-1+1j)\n",
    "        elif el == '10':\n",
    "            result_complex.append(1-1j)\n",
    "        elif el == '11':\n",
    "            result_complex.append(1+1j)\n",
    "        else:\n",
    "            result_complex.append(-1-1j)\n",
    "    return result_complex"
   ]
  },
  {
   "cell_type": "code",
   "execution_count": 1148,
   "metadata": {},
   "outputs": [],
   "source": [
    "def GetDistance(element, phases):\n",
    "    answer = 0\n",
    "    dist = inf\n",
    "    for phase in phases:\n",
    "        if(abs(element - phase) < dist):\n",
    "            answer = phase\n",
    "            dist = abs(element - phase)\n",
    "    return answer"
   ]
  },
  {
   "cell_type": "code",
   "execution_count": 1149,
   "metadata": {},
   "outputs": [],
   "source": [
    "def QPSKtoBinary(complex_list):\n",
    "    phases = [-1-1j, -1+1j, 1-1j, 1+1j]\n",
    "    result_b = ''\n",
    "    #ищем ближайшую дистанцию к искомому классу:\n",
    "    for el in complex_list:\n",
    "        ans = GetDistance(el, phases)\n",
    "        if ans == -1-1j:\n",
    "            result_b += '00'\n",
    "        elif ans == -1+1j:\n",
    "            result_b += '01'\n",
    "        elif ans == 1-1j:\n",
    "            result_b += '10'\n",
    "        elif ans == 1+1j:\n",
    "            result_b += '11'\n",
    "        else: \n",
    "            result_b += '00'\n",
    "    return result_b"
   ]
  },
  {
   "cell_type": "code",
   "execution_count": 1150,
   "metadata": {},
   "outputs": [],
   "source": [
    "def QAM16toBinary(complex_list):\n",
    "    result_b = ''\n",
    "    phases = [-3-3j, -3-1j, -3+3j, -3+1j, -1-3j, -1-1j, -1+3j, -1+1j, 3-3j,3-1j, 3+3j, 3+1j, 1-3j, 1+3j, 1-1j, 1+1j]\n",
    "    for el in complex_list:\n",
    "        el = GetDistance(el, phases)\n",
    "        if el == -3-3j:\n",
    "            result_b += '0000'\n",
    "        elif el == -3-1j:\n",
    "            result_b += '0001'\n",
    "        elif el == -3+3j:\n",
    "            result_b += '0010'\n",
    "        elif el == -3+1j:\n",
    "            result_b += '0011'\n",
    "        elif el == -1-3j:\n",
    "            result_b += '0100'\n",
    "        elif el == -1-1j:\n",
    "            result_b += '0101'\n",
    "        elif el == -1+3j:\n",
    "            result_b += '0110'\n",
    "        elif el == -1+1j:\n",
    "            result_b += '0111'\n",
    "        elif el == 3-3j:\n",
    "            result_b += '1000'\n",
    "        elif el == 3-1j:\n",
    "            result_b += '1001'\n",
    "        elif el == 3+3j:\n",
    "            result_b += '1010'\n",
    "        elif el == 3+1j:\n",
    "            result_b += '1011'\n",
    "        elif el == 1-3j:\n",
    "            result_b += '1100'\n",
    "        elif el == 1-1j:\n",
    "            result_b += '1101'\n",
    "        elif el == 1+3j:\n",
    "            result_b += '1110'\n",
    "        elif el == 1+1j:\n",
    "            result_b += '1111'\n",
    "        else:\n",
    "            result_b += '0000'\n",
    "    return result_b"
   ]
  },
  {
   "cell_type": "code",
   "execution_count": 1151,
   "metadata": {},
   "outputs": [],
   "source": [
    "def QAM16toComplex(b_sequence):\n",
    "    result_complex = []\n",
    "    for i in range(int(len(b_sequence) / 4)):\n",
    "        el = b_sequence[4 * i] + b_sequence[4 * i + 1] + b_sequence[4 * i + 2] + b_sequence[4 * i + 3]\n",
    "        if el == '0000':\n",
    "            result_complex.append(-3-3j)\n",
    "        if el == '0001':\n",
    "            result_complex.append(-3-1j)\n",
    "        if el == '0010':\n",
    "            result_complex.append(-3+3j)\n",
    "        if el == '0011':\n",
    "            result_complex.append(-3+1j)\n",
    "        if el == '0100':\n",
    "            result_complex.append(-1-3j)\n",
    "        if el == '0101':\n",
    "            result_complex.append(-1-1j)\n",
    "        if el == '0110':\n",
    "            result_complex.append(-1+3j)\n",
    "        if el == '0111':\n",
    "            result_complex.append(-1+1j)\n",
    "        if el == '1000':\n",
    "            result_complex.append(3-3j)\n",
    "        if el == '1001':\n",
    "            result_complex.append(3-1j)\n",
    "        if el == '1010':\n",
    "            result_complex.append(3+3j)\n",
    "        if el == '1011':\n",
    "            result_complex.append(3+1j)\n",
    "        if el == '1100':\n",
    "            result_complex.append(1-3j)\n",
    "        if el == '1101':\n",
    "            result_complex.append(1-1j)\n",
    "        if el == '1110':\n",
    "            result_complex.append(1+3j)\n",
    "        if el == '1111':\n",
    "            result_complex.append(1+1j)\n",
    "    return result_complex"
   ]
  },
  {
   "cell_type": "markdown",
   "metadata": {},
   "source": [
    "# преобразование - комплексные числа <> нелинейный сигнал"
   ]
  },
  {
   "cell_type": "code",
   "execution_count": 1152,
   "metadata": {},
   "outputs": [],
   "source": [
    "def raised_cosine(t):\n",
    "    return np.sinc(t / config['T']) * np.cos(np.pi * config['BETA'] * t / config['T']) / (1 - 4 * config['BETA'] ** 2 * t ** 2 / (config['T'] ** 2))"
   ]
  },
  {
   "cell_type": "code",
   "execution_count": 1153,
   "metadata": {},
   "outputs": [
    {
     "data": {
      "text/plain": [
       "[<matplotlib.lines.Line2D at 0x7ff97c58cd00>]"
      ]
     },
     "execution_count": 1153,
     "metadata": {},
     "output_type": "execute_result"
    },
    {
     "data": {
      "image/png": "[encoded data removed]",
      "text/plain": [
       "<Figure size 432x288 with 1 Axes>"
      ]
     },
     "metadata": {
      "needs_background": "light"
     },
     "output_type": "display_data"
    }
   ],
   "source": [
    "temp = np.linspace(-5, 5, 1000)\n",
    "u = [raised_cosine(el) for el in temp]\n",
    "plt.plot(temp, u)"
   ]
  },
  {
   "cell_type": "code",
   "execution_count": 1154,
   "metadata": {},
   "outputs": [],
   "source": [
    "def ComplexToSignal(complex_list):\n",
    "    signal_mesh = np.linspace(0, len(complex_list)*config['T'], len(complex_list)*config['NUMBER_OF_POINTS'])\n",
    "    signal = np.zeros((len(signal_mesh),), dtype = complex)\n",
    "    for i in range(len(complex_list)):\n",
    "        curr_f = np.array([raised_cosine(el - i * config['T'] - config['T'] / 2) for el in signal_mesh])\n",
    "        curr_layer = complex_list[i] * curr_f\n",
    "        signal += curr_layer\n",
    "    return signal_mesh, signal"
   ]
  },
  {
   "cell_type": "markdown",
   "metadata": {},
   "source": [
    "# Прогонка по волокну"
   ]
  },
  {
   "cell_type": "code",
   "execution_count": 1155,
   "metadata": {},
   "outputs": [],
   "source": [
    "def NonLinear(grid, step):\n",
    "    new_grid = []\n",
    "    for obj in grid:\n",
    "        new_grid.append(obj*exp(1j*config['GAMMA']*step*(abs(obj)**2)))\n",
    "    return new_grid\n",
    "\n",
    "def Dispersion(grid, w, step):\n",
    "    new_grid = []\n",
    "    for obj, psi in zip(grid, w):\n",
    "        new_grid.append(obj * exp((1j*config['BETA2']*step*psi**2)/2))\n",
    "    return new_grid\n",
    "\n",
    "def HalfDispersion(grid, w, step):\n",
    "    new_grid = []\n",
    "    for obj, psi in zip(grid, w):\n",
    "        new_grid.append(obj * exp((1j*config['BETA2']*step*psi**2)/4))\n",
    "    return new_grid\n",
    "\n",
    "def BackDispersion(grid, w):\n",
    "    new_grid = []\n",
    "    for obj, psi in zip(grid, w):\n",
    "        new_grid.append(obj*exp((-1j*config['BETA2']*psi**2*config['LENGTH'])/2))\n",
    "    return new_grid"
   ]
  },
  {
   "cell_type": "markdown",
   "metadata": {},
   "source": [
    "# Распространение сигнала"
   ]
  },
  {
   "cell_type": "code",
   "execution_count": 1156,
   "metadata": {},
   "outputs": [],
   "source": [
    "def FirstOrderMethod(grid, w, step):\n",
    "    grid = NonLinear(grid, step)\n",
    "    grid = fft(grid)\n",
    "    grid = Dispersion(grid, w, step)\n",
    "    grid = ifft(grid)\n",
    "    return grid"
   ]
  },
  {
   "cell_type": "code",
   "execution_count": 1157,
   "metadata": {},
   "outputs": [],
   "source": [
    "def SecondOrderMethod(grid, w, step):\n",
    "    grid = fft(grid)\n",
    "    grid = HalfDispersion(grid, w, step)\n",
    "    grid = ifft(grid)\n",
    "    grid = NonLinear(grid, step)\n",
    "    grid = fft(grid)\n",
    "    grid = HalfDispersion(grid, w, step)\n",
    "    grid = ifft(grid)\n",
    "    return grid"
   ]
  },
  {
   "cell_type": "code",
   "execution_count": 1158,
   "metadata": {},
   "outputs": [],
   "source": [
    "def DispersionBackPropagation(grid, w, step):\n",
    "    grid = fft(grid)\n",
    "    grid = BackDispersion(grid, w)\n",
    "    grid = ifft(grid)\n",
    "    return grid"
   ]
  },
  {
   "cell_type": "code",
   "execution_count": 1159,
   "metadata": {},
   "outputs": [],
   "source": [
    "def FinalPropagation(signal, freqs):\n",
    "    step = (config['B'] - config['A'])/config['NUMBER_OF_STEPS']\n",
    "    old_signal = signal\n",
    "    for i in tqdm(range(config['NUMBER_OF_STEPS'])):\n",
    "        new_signal = config['METHOD'](old_signal, freqs, step)\n",
    "        old_signal = new_signal\n",
    "    new_signal = DispersionBackPropagation(new_signal, freqs, step)\n",
    "    return new_signal"
   ]
  },
  {
   "cell_type": "markdown",
   "metadata": {},
   "source": [
    "# Фильтрация сигнала"
   ]
  },
  {
   "cell_type": "code",
   "execution_count": 1160,
   "metadata": {},
   "outputs": [],
   "source": [
    "def Filtration(grid):\n",
    "    filtrated = []\n",
    "    v = int((config['NUMBER_OF_POINTS'] - 1)/2)\n",
    "    for val in range(v, len(grid) - v, config['NUMBER_OF_POINTS']):\n",
    "        filtrated.append(grid[val])\n",
    "        \n",
    "    return filtrated"
   ]
  },
  {
   "cell_type": "markdown",
   "metadata": {},
   "source": [
    "# Подбор фазы"
   ]
  },
  {
   "cell_type": "code",
   "execution_count": 1161,
   "metadata": {},
   "outputs": [],
   "source": [
    "def f(x):\n",
    "    summ = 0\n",
    "    for true_val, wrong_val in zip(config['STARTED_SIGNAL'], config['TRANSLATED_SIGNAL']):\n",
    "        summ += abs(true_val - wrong_val*exp(1j*x))\n",
    "    return summ"
   ]
  },
  {
   "cell_type": "code",
   "execution_count": 1162,
   "metadata": {},
   "outputs": [],
   "source": [
    "def GetPhase():\n",
    "    res = minimize(f, config['BEGIN'], method = config['OPTIMIZE'], bounds = [(-80,80)])\n",
    "    return res.x"
   ]
  },
  {
   "cell_type": "markdown",
   "metadata": {},
   "source": [
    "# Итоговое решение"
   ]
  },
  {
   "cell_type": "code",
   "execution_count": 1163,
   "metadata": {},
   "outputs": [],
   "source": [
    "#текст в бинарник\n",
    "text = from_text_to_binary(basic_text)"
   ]
  },
  {
   "cell_type": "code",
   "execution_count": 1164,
   "metadata": {},
   "outputs": [],
   "source": [
    "true_binary = text"
   ]
  },
  {
   "cell_type": "code",
   "execution_count": 1165,
   "metadata": {},
   "outputs": [
    {
     "data": {
      "text/plain": [
       "608"
      ]
     },
     "execution_count": 1165,
     "metadata": {},
     "output_type": "execute_result"
    }
   ],
   "source": [
    "len(text)"
   ]
  },
  {
   "cell_type": "code",
   "execution_count": 1166,
   "metadata": {},
   "outputs": [],
   "source": [
    "#бинарник в комплексные числа\n",
    "text = config['BINARY_TO_COMPLEX'](text)"
   ]
  },
  {
   "cell_type": "code",
   "execution_count": 1167,
   "metadata": {},
   "outputs": [],
   "source": [
    "#комплексные числа в сигнал\n",
    "mesh, signal = ComplexToSignal(text)"
   ]
  },
  {
   "cell_type": "code",
   "execution_count": 1192,
   "metadata": {},
   "outputs": [
    {
     "name": "stderr",
     "output_type": "stream",
     "text": [
      "/Users/andrlluuk/opt/anaconda3/lib/python3.8/site-packages/numpy/core/_asarray.py:83: ComplexWarning: Casting complex values to real discards the imaginary part\n",
      "  return array(a, dtype, copy=False, order=order)\n"
     ]
    },
    {
     "data": {
      "text/plain": [
       "[<matplotlib.lines.Line2D at 0x7ff97af4a0a0>]"
      ]
     },
     "execution_count": 1192,
     "metadata": {},
     "output_type": "execute_result"
    },
    {
     "data": {
      "image/png": "[encoded data removed]",
      "text/plain": [
       "<Figure size 432x288 with 1 Axes>"
      ]
     },
     "metadata": {
      "needs_background": "light"
     },
     "output_type": "display_data"
    }
   ],
   "source": [
    "plt.plot(signal[:200])"
   ]
  },
  {
   "cell_type": "code",
   "execution_count": 1168,
   "metadata": {},
   "outputs": [],
   "source": [
    "config['STARTED_SIGNAL'] = text"
   ]
  },
  {
   "cell_type": "code",
   "execution_count": 1169,
   "metadata": {},
   "outputs": [
    {
     "data": {
      "image/png": "[encoded data removed]",
      "text/plain": [
       "<Figure size 432x360 with 1 Axes>"
      ]
     },
     "metadata": {
      "needs_background": "light"
     },
     "output_type": "display_data"
    }
   ],
   "source": [
    "x = [ele.real for ele in text]\n",
    "y = [ele.imag for ele in text]\n",
    "  \n",
    "fig = plt.figure(figsize=(6,5))\n",
    "\n",
    "plt.scatter(x, y)\n",
    "plt.ylabel('Imaginary')\n",
    "plt.xlabel('Real')\n",
    "plt.show()"
   ]
  },
  {
   "cell_type": "code",
   "execution_count": 1189,
   "metadata": {},
   "outputs": [
    {
     "data": {
      "text/plain": [
       "[<matplotlib.lines.Line2D at 0x7ff97bacb760>]"
      ]
     },
     "execution_count": 1189,
     "metadata": {},
     "output_type": "execute_result"
    },
    {
     "data": {
      "image/png": "[encoded data removed]",
      "text/plain": [
       "<Figure size 432x288 with 1 Axes>"
      ]
     },
     "metadata": {
      "needs_background": "light"
     },
     "output_type": "display_data"
    }
   ],
   "source": [
    "plt.plot(config['STARTED_SIGNAL'][:30])"
   ]
  },
  {
   "cell_type": "code",
   "execution_count": 1171,
   "metadata": {},
   "outputs": [],
   "source": [
    "old_filtrated_signal = Filtration(signal)"
   ]
  },
  {
   "cell_type": "code",
   "execution_count": 1172,
   "metadata": {},
   "outputs": [],
   "source": [
    "#настройка частот\n",
    "freqs = fftfreq(len(mesh), (mesh[-1] - mesh[0])/len(mesh))*2*pi"
   ]
  },
  {
   "cell_type": "code",
   "execution_count": 1173,
   "metadata": {},
   "outputs": [
    {
     "name": "stderr",
     "output_type": "stream",
     "text": [
      "  0%|          | 0/5000 [00:00<?, ?it/s]<ipython-input-1094-e47e3a3d8242>:2: DeprecationWarning: Using scipy.fft as a function is deprecated and will be removed in SciPy 1.5.0, use scipy.fft.fft instead.\n",
      "  grid = fft(grid)\n",
      "<ipython-input-1094-e47e3a3d8242>:4: DeprecationWarning: scipy.ifft is deprecated and will be removed in SciPy 2.0.0, use scipy.fft.ifft instead\n",
      "  grid = ifft(grid)\n",
      "<ipython-input-1094-e47e3a3d8242>:6: DeprecationWarning: Using scipy.fft as a function is deprecated and will be removed in SciPy 1.5.0, use scipy.fft.fft instead.\n",
      "  grid = fft(grid)\n",
      "<ipython-input-1094-e47e3a3d8242>:8: DeprecationWarning: scipy.ifft is deprecated and will be removed in SciPy 2.0.0, use scipy.fft.ifft instead\n",
      "  grid = ifft(grid)\n",
      "100%|██████████| 5000/5000 [02:09<00:00, 38.62it/s]\n"
     ]
    }
   ],
   "source": [
    "#распространение сигнала\n",
    "new_signal = FinalPropagation(signal, freqs)"
   ]
  },
  {
   "cell_type": "code",
   "execution_count": 1174,
   "metadata": {},
   "outputs": [],
   "source": [
    "filtrated_signal = Filtration(new_signal)"
   ]
  },
  {
   "cell_type": "code",
   "execution_count": null,
   "metadata": {},
   "outputs": [],
   "source": [
    "plt.plot(config[''])"
   ]
  },
  {
   "cell_type": "code",
   "execution_count": 1175,
   "metadata": {},
   "outputs": [
    {
     "data": {
      "text/plain": [
       "[<matplotlib.lines.Line2D at 0x7ff97c3aedc0>]"
      ]
     },
     "execution_count": 1175,
     "metadata": {},
     "output_type": "execute_result"
    },
    {
     "data": {
      "image/png": "[encoded data removed]",
      "text/plain": [
       "<Figure size 432x288 with 1 Axes>"
      ]
     },
     "metadata": {
      "needs_background": "light"
     },
     "output_type": "display_data"
    }
   ],
   "source": [
    "plt.plot(filtrated_signal)"
   ]
  },
  {
   "cell_type": "code",
   "execution_count": 1176,
   "metadata": {},
   "outputs": [],
   "source": [
    "config['TRANSLATED_SIGNAL'] = filtrated_signal"
   ]
  },
  {
   "cell_type": "code",
   "execution_count": 1177,
   "metadata": {},
   "outputs": [
    {
     "data": {
      "image/png": "[encoded data removed]",
      "text/plain": [
       "<Figure size 432x360 with 1 Axes>"
      ]
     },
     "metadata": {
      "needs_background": "light"
     },
     "output_type": "display_data"
    }
   ],
   "source": [
    "x = [ele.real for ele in filtrated_signal]\n",
    "y = [ele.imag for ele in filtrated_signal]\n",
    "  \n",
    "fig = plt.figure(figsize=(6,5))\n",
    "\n",
    "plt.scatter(x, y)\n",
    "plt.ylabel('Imaginary')\n",
    "plt.xlabel('Real')\n",
    "plt.show()"
   ]
  },
  {
   "cell_type": "code",
   "execution_count": 1178,
   "metadata": {},
   "outputs": [],
   "source": [
    "phase = GetPhase()"
   ]
  },
  {
   "cell_type": "code",
   "execution_count": 1179,
   "metadata": {},
   "outputs": [
    {
     "data": {
      "text/plain": [
       "array([-46.32225786])"
      ]
     },
     "execution_count": 1179,
     "metadata": {},
     "output_type": "execute_result"
    }
   ],
   "source": [
    "phase"
   ]
  },
  {
   "cell_type": "code",
   "execution_count": 1180,
   "metadata": {},
   "outputs": [],
   "source": [
    "fs = np.array(filtrated_signal, dtype = complex)*exp(1j*phase)"
   ]
  },
  {
   "cell_type": "code",
   "execution_count": 1181,
   "metadata": {},
   "outputs": [
    {
     "data": {
      "image/png": "[encoded data removed]",
      "text/plain": [
       "<Figure size 432x360 with 1 Axes>"
      ]
     },
     "metadata": {
      "needs_background": "light"
     },
     "output_type": "display_data"
    }
   ],
   "source": [
    "x = [ele.real for ele in fs]\n",
    "y = [ele.imag for ele in fs]\n",
    "  \n",
    "fig = plt.figure(figsize=(6,5))\n",
    "\n",
    "plt.scatter(x, y)\n",
    "plt.ylabel('Imaginary')\n",
    "plt.xlabel('Real')\n",
    "plt.show()"
   ]
  },
  {
   "cell_type": "code",
   "execution_count": 1182,
   "metadata": {},
   "outputs": [],
   "source": [
    "binary = config['COMPLEX_TO_BINARY'](fs)"
   ]
  },
  {
   "cell_type": "code",
   "execution_count": 1183,
   "metadata": {},
   "outputs": [
    {
     "data": {
      "text/plain": [
       "'11010000101000011101000010111111110100001011000011010001100000011101000010111000110100001011000111010000101111100010000011010000101101111101000010110000001000001101000010111010110100011000001111010001100000001101000110000001001000010010000011010000100101111101000010110000110100011000011111010001100000101101000010111000110100011000001011010000101101010010000011010000101110111101000010110000110100001011000111010001100000110010110000100000110100001011111111010000101111101101000010110110110100001011000011010000101110111101000110000011110100001011100111010001100000011101000110000010110100001011000000101000'"
      ]
     },
     "execution_count": 1183,
     "metadata": {},
     "output_type": "execute_result"
    }
   ],
   "source": [
    "binary"
   ]
  },
  {
   "cell_type": "code",
   "execution_count": 1184,
   "metadata": {},
   "outputs": [
    {
     "name": "stdout",
     "output_type": "stream",
     "text": [
      "1\n"
     ]
    }
   ],
   "source": [
    "print(sum([1 for i in zip(true_binary, binary) if i[0] != i[1]]))"
   ]
  },
  {
   "cell_type": "code",
   "execution_count": 1185,
   "metadata": {},
   "outputs": [
    {
     "data": {
      "text/plain": [
       "608"
      ]
     },
     "execution_count": 1185,
     "metadata": {},
     "output_type": "execute_result"
    }
   ],
   "source": [
    "len(binary)"
   ]
  },
  {
   "cell_type": "code",
   "execution_count": 1186,
   "metadata": {},
   "outputs": [],
   "source": [
    "final_text = from_binary_to_text(binary)"
   ]
  },
  {
   "cell_type": "code",
   "execution_count": 1187,
   "metadata": {},
   "outputs": [],
   "source": [
    "ft = ''\n",
    "for el in final_text:\n",
    "    if el != '/x0':\n",
    "        ft += el"
   ]
  },
  {
   "cell_type": "code",
   "execution_count": 1188,
   "metadata": {},
   "outputs": [
    {
     "name": "stdout",
     "output_type": "stream",
     "text": [
      "\u0000\u0000\u0000\u0000\u0000\u0000\u0000\u0000\u0000\u0000\u0000\u0000\u0000\u0000\u0000\u0000\u0000\u0000\u0000\u0000\u0000\u0000\u0000\u0000\u0000\u0000\u0000\u0000\u0000\u0000\u0000\u0000\u0000\u0000\u0000\u0000\u0000\u0000\u0000\u0000\u0000\u0000\u0000\u0000\u0000\u0000\u0000\u0000\u0000\u0000\u0000\u0000\u0000\u0000\u0000\u0000\u0000\u0000\u0000\u0000\u0000\u0000\u0000\u0000\u0000\u0000\u0000\u0000\u0000\u0000\u0000\u0000\u0000\u0000\u0000\u0000\u0000\u0000\u0000\u0000\u0000\u0000\u0000\u0000\u0000\u0000\u0000\u0000\u0000\u0000\u0000\u0000\u0000\u0000\u0000\u0000\u0000\u0000\u0000\u0000\u0000\u0000\u0000\u0000\u0000\u0000\u0000\u0000\u0000\u0000\u0000\u0000\u0000\u0000\u0000\u0000\u0000\u0000\u0000\u0000\u0000\u0000\u0000\u0000\u0000\u0000\u0000\u0000\u0000\u0000\u0000\u0000\u0000\u0000\u0000\u0000\u0000\u0000\u0000\u0000\u0000\u0000\u0000\u0000\u0000\u0000\u0000\u0000\u0000\u0000\u0000\u0000\u0000\u0000\u0000\u0000\u0000\u0000\u0000\u0000\u0000\u0000\u0000\u0000\u0000\u0000\u0000\u0000\u0000\u0000\u0000\u0000\u0000\u0000\u0000\u0000\u0000\u0000\u0000\u0000\u0000\u0000\u0000\u0000\u0000\u0000\u0000\u0000\u0000\u0000\u0000\u0000\u0000\u0000\u0000\u0000\u0000\u0000\u0000\u0000\u0000\u0000\u0000\u0000\u0000\u0000\u0000\u0000\u0000\u0000\u0000\u0000\u0000\u0000\u0000\u0000\u0000\u0000\u0000\u0000\u0000\u0000\u0000\u0000\u0000\u0000\u0000\u0000\u0000\u0000\u0000\u0000\u0000\u0000\u0000\u0000\u0000\u0000\u0000\u0000\u0000\u0000\u0000\u0000\u0000\u0000\u0000\u0000\u0000\u0000\u0000\u0000\u0000\u0000\u0000\u0000\u0000\u0000\u0000\u0000\u0000\u0000\u0000\u0000\u0000\u0000\u0000\u0000\u0000\u0000\u0000\u0000\u0000\u0000\u0000\u0000\u0000\u0000\u0000\u0000\u0000\u0000\u0000\u0000\u0000\u0000\u0000\u0000\u0000\u0000\u0000\u0000\u0000\u0000\u0000\u0000\u0000\u0000\u0000\u0000\u0000\u0000\u0000\u0000\u0000\u0000\u0000\u0000\u0000\u0000\u0000\u0000\u0000\u0000\u0000\u0000\u0000\u0000\u0000\u0000\u0000\u0000\u0000\u0000\u0000\u0000\u0000\u0000\u0000\u0000\u0000\u0000\u0000\u0000\u0000\u0000\u0000\u0000\u0000\u0000\u0000\u0000\u0000\u0000\u0000\u0000\u0000\u0000\u0000\u0000\u0000\u0000\u0000\u0000\u0000\u0000\u0000\u0000\u0000\u0000\u0000\u0000\u0000\u0000\u0000\u0000\u0000\u0000\u0000\u0000\u0000\u0000\u0000\u0000\u0000\u0000\u0000\u0000\u0000\u0000\u0000\u0000\u0000\u0000\u0000\u0000\u0000\u0000\u0000\u0000\u0000\u0000\u0000\u0000\u0000\u0000\u0000\u0000\u0000\u0000\u0000\u0000\u0000\u0000\u0000\u0000\u0000\u0000\u0000\u0000\u0000\u0000\u0000\u0000\u0000\u0000\u0000\u0000\u0000\u0000\u0000\u0000\u0000\u0000\u0000\u0000\u0000\u0000\u0000\u0000\u0000\u0000\u0000\u0000\u0000\u0000\u0000\u0000\u0000\u0000\u0000\u0000\u0000\u0000\u0000\u0000\u0000\u0000\u0000\u0000\u0000\u0000\u0000\u0000\u0000\u0000\u0000\u0000\u0000\u0000\u0000\u0000\u0000\u0000\u0000\u0000\u0000\u0000\u0000\u0000\u0000\u0000\u0000\u0000\u0000\u0000\u0000\u0000\u0000\u0000\u0000\u0000\u0000\u0000\u0000\u0000\u0000\u0000\u0000\u0000\u0000\u0000\u0000\u0000\u0000\u0000\u0000\u0000\u0000\u0000\u0000\u0000\u0000\u0000\u0000\u0000\u0000\u0000\u0000\u0000\u0000\u0000\u0000\u0000\u0000\u0000\u0000\u0000\u0000\u0000\u0000\u0000\u0000\u0000\u0000\u0000\u0000\u0000\u0000\u0000\u0000\u0000Спасибо за курс! Зачтите лабу, пожалуйста(\n"
     ]
    }
   ],
   "source": [
    "print(ft)"
   ]
  },
  {
   "cell_type": "code",
   "execution_count": null,
   "metadata": {},
   "outputs": [],
   "source": []
  }
 ],
 "metadata": {
  "kernelspec": {
   "display_name": "Python 3",
   "language": "python",
   "name": "python3"
  },
  "language_info": {
   "codemirror_mode": {
    "name": "ipython",
    "version": 3
   },
   "file_extension": ".py",
   "mimetype": "text/x-python",
   "name": "python",
   "nbconvert_exporter": "python",
   "pygments_lexer": "ipython3",
   "version": "3.8.5"
  }
 },
 "nbformat": 4,
 "nbformat_minor": 4
}
